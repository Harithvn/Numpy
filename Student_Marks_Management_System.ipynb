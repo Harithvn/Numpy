{
  "nbformat": 4,
  "nbformat_minor": 0,
  "metadata": {
    "colab": {
      "provenance": []
    },
    "kernelspec": {
      "name": "python3",
      "display_name": "Python 3"
    },
    "language_info": {
      "name": "python"
    }
  },
  "cells": [
    {
      "cell_type": "markdown",
      "source": [
        "**🎯 Objective:**\n",
        "You are working with student marks data and need to prepare and organize it using NumPy arrays.Your goal is to create, modify, and analyze the data efficiently without using any external libraries.\n",
        "\n",
        "**🧠 Project Description:**\n",
        "A school has recorded the marks of several students in different subjects.You are required to design a NumPy-based solution to store, manage, and process this data.Your tasks involve creating arrays, changing their shapes, combining data, performing modifications, and analyzing patterns — all using NumPy."
      ],
      "metadata": {
        "id": "grBQ0tLLk5TY"
      }
    },
    {
      "cell_type": "markdown",
      "source": [
        "**Project Tasks**"
      ],
      "metadata": {
        "id": "HNV0ear4k_rO"
      }
    },
    {
      "cell_type": "markdown",
      "source": [
        "**1. Data Creation**:**Create suitable arrays to represent students, subjects, and their marks.\n"
      ],
      "metadata": {
        "id": "jLkHN1Hd2cN5"
      }
    },
    {
      "cell_type": "code",
      "source": [
        "import numpy as np\n",
        "st_marks=np.array([[97,85,90,87],\n",
        "                   [78,80,67,75],\n",
        "                   [88,79,75,69],\n",
        "                   [60,58,55,48]])\n",
        "print(f\" created table of marks with st_name and subject :\\n {st_marks}\")"
      ],
      "metadata": {
        "colab": {
          "base_uri": "https://localhost:8080/"
        },
        "id": "mF1zpX7hOH9a",
        "outputId": "136974bd-17f1-40d7-abd6-5b1488c59e7a"
      },
      "execution_count": null,
      "outputs": [
        {
          "output_type": "stream",
          "name": "stdout",
          "text": [
            " created table of marks with st_name and subject :\n",
            " [[97 85 90 87]\n",
            " [78 80 67 75]\n",
            " [88 79 75 69]\n",
            " [60 58 55 48]]\n"
          ]
        }
      ]
    },
    {
      "cell_type": "markdown",
      "source": [
        "**2.Data Exploration**:*Explore the properties of these arrays — such as their dimensions, size, and structure.\n"
      ],
      "metadata": {
        "id": "J9ioBq-23gn1"
      }
    },
    {
      "cell_type": "code",
      "source": [
        "print(f\" Dimension of st_marks is {st_marks.ndim} 'D\")\n",
        "print(f\" Size of the  st_marks is {st_marks.size} elements\")\n",
        "print(f\" Structure of st_marks is {st_marks.shape}\")"
      ],
      "metadata": {
        "colab": {
          "base_uri": "https://localhost:8080/"
        },
        "id": "YTbJSMgGPIMj",
        "outputId": "fee0b022-6416-4e2b-c7b3-f6aaba66771d"
      },
      "execution_count": null,
      "outputs": [
        {
          "output_type": "stream",
          "name": "stdout",
          "text": [
            " Dimension of st_marks is 2 'D\n",
            " Size of the  st_marks is 16 elements\n",
            " Structure of st_marks is (4, 4)\n"
          ]
        }
      ]
    },
    {
      "cell_type": "markdown",
      "source": [
        "**3.Data Transformation:** Perform necessary reshaping and reorganization of the data to suit various operations."
      ],
      "metadata": {
        "id": "jqKCf0hv3-37"
      }
    },
    {
      "cell_type": "code",
      "source": [
        "re_shape=st_marks.reshape(2,8)\n",
        "print(f\" Reshaped array :\\n {re_shape}\")   # reshaped to 2 rows and 8 columns\n",
        "\n",
        "print(\"\\n\")\n",
        "\n",
        "trans=st_marks.T\n",
        "print(f\"transposed array :\\n {trans}\")"
      ],
      "metadata": {
        "colab": {
          "base_uri": "https://localhost:8080/"
        },
        "id": "UrXZkewIQEhZ",
        "outputId": "4ec41877-ebc6-4b51-c24f-d7c94c14dd9d"
      },
      "execution_count": null,
      "outputs": [
        {
          "output_type": "stream",
          "name": "stdout",
          "text": [
            " Reshaped array :\n",
            " [[97 85 90 87 78 80 67 75]\n",
            " [88 79 75 69 60 58 55 48]]\n",
            "\n",
            "\n",
            "transposed array :\n",
            " [[97 78 88 60]\n",
            " [85 80 79 58]\n",
            " [90 67 75 55]\n",
            " [87 75 69 48]]\n"
          ]
        }
      ]
    },
    {
      "cell_type": "markdown",
      "source": [
        "4.**Data Combination**:Merge or split arrays to simulate adding new students, new subjects, or reorganizing the dataset"
      ],
      "metadata": {
        "id": "mvxDNREf49i7"
      }
    },
    {
      "cell_type": "code",
      "source": [
        "add_marks_v=np.array([78,85,69,72])\n",
        "marks_update_v=np.vstack((st_marks,add_marks_v))\n",
        "print(f\" Adding marks for all student's:\\n  {marks_update_v}\")\n",
        "add_marks_h=np.array([[87],[67],[56],[43]])\n",
        "marks_update_h=np.hstack((st_marks,add_marks_h))\n",
        "print(f\" Adding new student marks:\\n {marks_update_h}\")"
      ],
      "metadata": {
        "colab": {
          "base_uri": "https://localhost:8080/"
        },
        "id": "LSg6puueRxs6",
        "outputId": "d39c40ee-dce2-4194-a1dc-e205ba95ef8a"
      },
      "execution_count": null,
      "outputs": [
        {
          "output_type": "stream",
          "name": "stdout",
          "text": [
            " Adding marks for all student's:\n",
            "  [[97 85 90 87]\n",
            " [78 80 67 75]\n",
            " [88 79 75 69]\n",
            " [60 58 55 48]\n",
            " [78 85 69 72]]\n",
            " Adding new student marks:\n",
            " [[97 85 90 87 87]\n",
            " [78 80 67 75 67]\n",
            " [88 79 75 69 56]\n",
            " [60 58 55 48 43]]\n"
          ]
        }
      ]
    },
    {
      "cell_type": "markdown",
      "source": [
        "5.**Data Modification**:Apply operations to update marks, remove data, or identify unique information.\n"
      ],
      "metadata": {
        "id": "01inGC_SI1BN"
      }
    },
    {
      "cell_type": "code",
      "source": [
        "marks_update_v[0][2]=99\n",
        "print(f\" After updateting marks:\\n {marks_update_v} \\n\")\n",
        "\n",
        "delete_marks=np.delete(marks_update_v,2)\n",
        "print(f\"After deleting :\\n{delete_marks} \\n\")\n",
        "\n",
        "unique_marks=np.unique(marks_update_v)\n",
        "print(f\"Unique_information of marks :{unique_marks}\")\n"
      ],
      "metadata": {
        "colab": {
          "base_uri": "https://localhost:8080/"
        },
        "id": "s_xZil6WTwQm",
        "outputId": "8bb97943-4528-41a0-92af-396ce38319ee"
      },
      "execution_count": null,
      "outputs": [
        {
          "output_type": "stream",
          "name": "stdout",
          "text": [
            " After updateting marks:\n",
            " [[97 85 99 87]\n",
            " [78 80 67 75]\n",
            " [88 79 75 69]\n",
            " [60 58 55 48]\n",
            " [78 85 69 72]] \n",
            "\n",
            "After deleting :\n",
            "[97 85 87 78 80 67 75 88 79 75 69 60 58 55 48 78 85 69 72] \n",
            "\n",
            "Unique_information of marks :[48 55 58 60 67 69 72 75 78 79 80 85 87 88 97 99]\n"
          ]
        }
      ]
    },
    {
      "cell_type": "markdown",
      "source": [
        "**6.Data Type Handling:** Demonstrate how the same data can exist in different data types and how changes affect results."
      ],
      "metadata": {
        "id": "1xFOgthwNE5p"
      }
    },
    {
      "cell_type": "code",
      "source": [
        "print(f\" The actuale datatype is {marks_update_v.dtype}\")\n",
        "diffdtype=marks_update_v.astype(float)\n",
        "print(f\" updated datatype is:\\n {diffdtype}\") # here data type is converted to float\n"
      ],
      "metadata": {
        "colab": {
          "base_uri": "https://localhost:8080/"
        },
        "id": "U9OoY16YYYYs",
        "outputId": "b412ee8e-aad0-403b-d46a-b691c4a2fd32"
      },
      "execution_count": null,
      "outputs": [
        {
          "output_type": "stream",
          "name": "stdout",
          "text": [
            " The actuale datatype is int64\n",
            " updated datatype is:\n",
            " [[97. 85. 99. 87.]\n",
            " [78. 80. 67. 75.]\n",
            " [88. 79. 75. 69.]\n",
            " [60. 58. 55. 48.]\n",
            " [78. 85. 69. 72.]]\n"
          ]
        }
      ]
    },
    {
      "cell_type": "markdown",
      "source": [
        "**7. Copy and View Behavior**:Show the difference between creating a full copy of an array and creating a view of the same data."
      ],
      "metadata": {
        "id": "VFziBCbuOE4m"
      }
    },
    {
      "cell_type": "code",
      "source": [
        "# COPY\n",
        "marks_copy=marks_update_v.copy()\n",
        "marks_copy[0,0]=100\n",
        "print(f\"Original marks : {marks_update_v[0,0]}\")\n",
        "print(f\"Copied marks : {marks_copy[0,0]}\")"
      ],
      "metadata": {
        "colab": {
          "base_uri": "https://localhost:8080/"
        },
        "id": "Wcr3snIoPuMB",
        "outputId": "3a2a5e89-b442-4b4a-9f7a-b9a75b239a4e"
      },
      "execution_count": null,
      "outputs": [
        {
          "output_type": "stream",
          "name": "stdout",
          "text": [
            "Original marks : 97\n",
            "Copied marks : 100\n"
          ]
        }
      ]
    },
    {
      "cell_type": "code",
      "source": [
        "#VIEW\n",
        "marks_view=marks_update_v.view()\n",
        "marks_view[0,1]=99\n",
        "print(f\"Original marks: {marks_update_v[0,1]}\")\n",
        "print(f\"Viewed marks : {marks_view[0,1]}\")"
      ],
      "metadata": {
        "colab": {
          "base_uri": "https://localhost:8080/"
        },
        "id": "Vvd4mhm0Qtcm",
        "outputId": "f90ceb8b-bc88-4275-a857-116ae6f42f60"
      },
      "execution_count": null,
      "outputs": [
        {
          "output_type": "stream",
          "name": "stdout",
          "text": [
            "Original marks: 99\n",
            "Viewed marks : 99\n"
          ]
        }
      ]
    }
  ]
}